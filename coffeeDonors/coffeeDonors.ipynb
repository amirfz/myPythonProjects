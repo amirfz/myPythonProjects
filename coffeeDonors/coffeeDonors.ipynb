{
 "cells": [
  {
   "cell_type": "code",
   "execution_count": 23,
   "metadata": {
    "collapsed": false
   },
   "outputs": [],
   "source": [
    "import pandas as pd\n",
    "import numpy as np\n",
    "import matplotlib.pyplot as plt\n",
    "%matplotlib inline"
   ]
  },
  {
   "cell_type": "code",
   "execution_count": 24,
   "metadata": {
    "collapsed": false
   },
   "outputs": [
    {
     "data": {
      "text/html": [
       "<div>\n",
       "<table border=\"1\" class=\"dataframe\">\n",
       "  <thead>\n",
       "    <tr style=\"text-align: right;\">\n",
       "      <th></th>\n",
       "      <th>Name</th>\n",
       "      <th>Amount</th>\n",
       "      <th>Date</th>\n",
       "    </tr>\n",
       "  </thead>\n",
       "  <tbody>\n",
       "    <tr>\n",
       "      <th>0</th>\n",
       "      <td>Dylan</td>\n",
       "      <td>500</td>\n",
       "      <td>2014-09-16</td>\n",
       "    </tr>\n",
       "    <tr>\n",
       "      <th>1</th>\n",
       "      <td>Joe</td>\n",
       "      <td>227</td>\n",
       "      <td>2014-10-10</td>\n",
       "    </tr>\n",
       "    <tr>\n",
       "      <th>2</th>\n",
       "      <td>William</td>\n",
       "      <td>227</td>\n",
       "      <td>2014-10-20</td>\n",
       "    </tr>\n",
       "    <tr>\n",
       "      <th>3</th>\n",
       "      <td>Joe</td>\n",
       "      <td>227</td>\n",
       "      <td>2014-10-23</td>\n",
       "    </tr>\n",
       "    <tr>\n",
       "      <th>4</th>\n",
       "      <td>Peter</td>\n",
       "      <td>500</td>\n",
       "      <td>2014-10-25</td>\n",
       "    </tr>\n",
       "  </tbody>\n",
       "</table>\n",
       "</div>"
      ],
      "text/plain": [
       "      Name  Amount       Date\n",
       "0    Dylan     500 2014-09-16\n",
       "1      Joe     227 2014-10-10\n",
       "2  William     227 2014-10-20\n",
       "3      Joe     227 2014-10-23\n",
       "4    Peter     500 2014-10-25"
      ]
     },
     "execution_count": 24,
     "metadata": {},
     "output_type": "execute_result"
    }
   ],
   "source": [
    "parser = lambda date: pd.datetime.strptime(date, '%d/%m/%Y')\n",
    "data = pd.read_csv(\"coffeeDonors.csv\", parse_dates=[2], date_parser=parser)\n",
    "data = data.sort_values(by = \"Date\")\n",
    "data.head()"
   ]
  },
  {
   "cell_type": "code",
   "execution_count": 25,
   "metadata": {
    "collapsed": false
   },
   "outputs": [
    {
     "data": {
      "text/plain": [
       "536"
      ]
     },
     "execution_count": 25,
     "metadata": {},
     "output_type": "execute_result"
    }
   ],
   "source": [
    "int((pd.datetime.now() - data[\"Date\"][1]).days)"
   ]
  },
  {
   "cell_type": "code",
   "execution_count": 26,
   "metadata": {
    "collapsed": false
   },
   "outputs": [
    {
     "data": {
      "text/html": [
       "<div>\n",
       "<table border=\"1\" class=\"dataframe\">\n",
       "  <thead>\n",
       "    <tr style=\"text-align: right;\">\n",
       "      <th></th>\n",
       "      <th>Name</th>\n",
       "      <th>Amount</th>\n",
       "      <th>Date</th>\n",
       "    </tr>\n",
       "  </thead>\n",
       "  <tbody>\n",
       "    <tr>\n",
       "      <th>2</th>\n",
       "      <td>William</td>\n",
       "      <td>227</td>\n",
       "      <td>2014-10-20</td>\n",
       "    </tr>\n",
       "    <tr>\n",
       "      <th>9</th>\n",
       "      <td>William</td>\n",
       "      <td>450</td>\n",
       "      <td>2014-12-08</td>\n",
       "    </tr>\n",
       "    <tr>\n",
       "      <th>17</th>\n",
       "      <td>William</td>\n",
       "      <td>450</td>\n",
       "      <td>2015-01-28</td>\n",
       "    </tr>\n",
       "    <tr>\n",
       "      <th>25</th>\n",
       "      <td>William</td>\n",
       "      <td>450</td>\n",
       "      <td>2015-03-09</td>\n",
       "    </tr>\n",
       "    <tr>\n",
       "      <th>29</th>\n",
       "      <td>William</td>\n",
       "      <td>227</td>\n",
       "      <td>2015-04-03</td>\n",
       "    </tr>\n",
       "    <tr>\n",
       "      <th>46</th>\n",
       "      <td>William</td>\n",
       "      <td>554</td>\n",
       "      <td>2015-07-01</td>\n",
       "    </tr>\n",
       "  </tbody>\n",
       "</table>\n",
       "</div>"
      ],
      "text/plain": [
       "       Name  Amount       Date\n",
       "2   William     227 2014-10-20\n",
       "9   William     450 2014-12-08\n",
       "17  William     450 2015-01-28\n",
       "25  William     450 2015-03-09\n",
       "29  William     227 2015-04-03\n",
       "46  William     554 2015-07-01"
      ]
     },
     "execution_count": 26,
     "metadata": {},
     "output_type": "execute_result"
    }
   ],
   "source": [
    "data[data.Name == 'William']"
   ]
  },
  {
   "cell_type": "code",
   "execution_count": 27,
   "metadata": {
    "collapsed": false
   },
   "outputs": [],
   "source": [
    "data[\"Month\"] = data[\"Date\"].dt.month"
   ]
  },
  {
   "cell_type": "code",
   "execution_count": 28,
   "metadata": {
    "collapsed": false
   },
   "outputs": [
    {
     "data": {
      "text/html": [
       "<div>\n",
       "<table border=\"1\" class=\"dataframe\">\n",
       "  <thead>\n",
       "    <tr style=\"text-align: right;\">\n",
       "      <th></th>\n",
       "      <th>Name</th>\n",
       "      <th>Amount</th>\n",
       "      <th>Date</th>\n",
       "      <th>Month</th>\n",
       "    </tr>\n",
       "  </thead>\n",
       "  <tbody>\n",
       "    <tr>\n",
       "      <th>0</th>\n",
       "      <td>Dylan</td>\n",
       "      <td>500</td>\n",
       "      <td>2014-09-16</td>\n",
       "      <td>9</td>\n",
       "    </tr>\n",
       "    <tr>\n",
       "      <th>1</th>\n",
       "      <td>Joe</td>\n",
       "      <td>227</td>\n",
       "      <td>2014-10-10</td>\n",
       "      <td>10</td>\n",
       "    </tr>\n",
       "    <tr>\n",
       "      <th>2</th>\n",
       "      <td>William</td>\n",
       "      <td>227</td>\n",
       "      <td>2014-10-20</td>\n",
       "      <td>10</td>\n",
       "    </tr>\n",
       "    <tr>\n",
       "      <th>3</th>\n",
       "      <td>Joe</td>\n",
       "      <td>227</td>\n",
       "      <td>2014-10-23</td>\n",
       "      <td>10</td>\n",
       "    </tr>\n",
       "    <tr>\n",
       "      <th>4</th>\n",
       "      <td>Peter</td>\n",
       "      <td>500</td>\n",
       "      <td>2014-10-25</td>\n",
       "      <td>10</td>\n",
       "    </tr>\n",
       "  </tbody>\n",
       "</table>\n",
       "</div>"
      ],
      "text/plain": [
       "      Name  Amount       Date  Month\n",
       "0    Dylan     500 2014-09-16      9\n",
       "1      Joe     227 2014-10-10     10\n",
       "2  William     227 2014-10-20     10\n",
       "3      Joe     227 2014-10-23     10\n",
       "4    Peter     500 2014-10-25     10"
      ]
     },
     "execution_count": 28,
     "metadata": {},
     "output_type": "execute_result"
    }
   ],
   "source": [
    "data.head()"
   ]
  },
  {
   "cell_type": "code",
   "execution_count": 29,
   "metadata": {
    "collapsed": false
   },
   "outputs": [
    {
     "data": {
      "image/png": "[encoded data removed]",
      "text/plain": [
       "<matplotlib.figure.Figure at 0xba77240>"
      ]
     },
     "metadata": {},
     "output_type": "display_data"
    }
   ],
   "source": [
    "groupedDataByName = (data.drop(\"Month\", axis=1)).groupby(\"Name\")\n",
    "groupDataByNameSorted = groupedDataByName.sum().sort_values(by = \"Amount\", ascending = False)\n",
    "groupDataByNameSorted.Amount.plot(kind='bar')\n",
    "groupDataByNameSorted.head()\n",
    "plt.ylabel('Amount (g)')\n",
    "plt.savefig('totalAmount_vs_name.pdf')"
   ]
  },
  {
   "cell_type": "code",
   "execution_count": 32,
   "metadata": {
    "collapsed": false
   },
   "outputs": [
    {
     "data": {
      "text/html": [
       "<div>\n",
       "<table border=\"1\" class=\"dataframe\">\n",
       "  <thead>\n",
       "    <tr style=\"text-align: right;\">\n",
       "      <th></th>\n",
       "      <th>beenHereFor_months</th>\n",
       "      <th>consumption_cups</th>\n",
       "      <th>paid_pounds</th>\n",
       "      <th>perWeight_g</th>\n",
       "      <th>paidPerKg</th>\n",
       "      <th>usedCoffeeFor_days</th>\n",
       "      <th>amountOfCoffeeUsed_cups</th>\n",
       "    </tr>\n",
       "    <tr>\n",
       "      <th>Name</th>\n",
       "      <th></th>\n",
       "      <th></th>\n",
       "      <th></th>\n",
       "      <th></th>\n",
       "      <th></th>\n",
       "      <th></th>\n",
       "      <th></th>\n",
       "    </tr>\n",
       "  </thead>\n",
       "  <tbody>\n",
       "    <tr>\n",
       "      <th>Dylan</th>\n",
       "      <td>32</td>\n",
       "      <td>1.5</td>\n",
       "      <td>3</td>\n",
       "      <td>227</td>\n",
       "      <td>13</td>\n",
       "      <td>536</td>\n",
       "      <td>459</td>\n",
       "    </tr>\n",
       "    <tr>\n",
       "      <th>Jelmer</th>\n",
       "      <td>6</td>\n",
       "      <td>1.0</td>\n",
       "      <td>13</td>\n",
       "      <td>1000</td>\n",
       "      <td>13</td>\n",
       "      <td>180</td>\n",
       "      <td>103</td>\n",
       "    </tr>\n",
       "    <tr>\n",
       "      <th>Eilon</th>\n",
       "      <td>29</td>\n",
       "      <td>1.5</td>\n",
       "      <td>18</td>\n",
       "      <td>1000</td>\n",
       "      <td>18</td>\n",
       "      <td>536</td>\n",
       "      <td>459</td>\n",
       "    </tr>\n",
       "    <tr>\n",
       "      <th>William</th>\n",
       "      <td>17</td>\n",
       "      <td>0.5</td>\n",
       "      <td>NaN</td>\n",
       "      <td>NaN</td>\n",
       "      <td>NaN</td>\n",
       "      <td>510</td>\n",
       "      <td>146</td>\n",
       "    </tr>\n",
       "    <tr>\n",
       "      <th>Amir</th>\n",
       "      <td>15</td>\n",
       "      <td>0.5</td>\n",
       "      <td>3</td>\n",
       "      <td>227</td>\n",
       "      <td>13</td>\n",
       "      <td>450</td>\n",
       "      <td>129</td>\n",
       "    </tr>\n",
       "  </tbody>\n",
       "</table>\n",
       "</div>"
      ],
      "text/plain": [
       "         beenHereFor_months  consumption_cups  paid_pounds  perWeight_g  \\\n",
       "Name                                                                      \n",
       "Dylan                    32               1.5            3          227   \n",
       "Jelmer                    6               1.0           13         1000   \n",
       "Eilon                    29               1.5           18         1000   \n",
       "William                  17               0.5          NaN          NaN   \n",
       "Amir                     15               0.5            3          227   \n",
       "\n",
       "         paidPerKg  usedCoffeeFor_days  amountOfCoffeeUsed_cups  \n",
       "Name                                                             \n",
       "Dylan           13                 536                      459  \n",
       "Jelmer          13                 180                      103  \n",
       "Eilon           18                 536                      459  \n",
       "William        NaN                 510                      146  \n",
       "Amir            13                 450                      129  "
      ]
     },
     "execution_count": 32,
     "metadata": {},
     "output_type": "execute_result"
    }
   ],
   "source": [
    "consumptionData = pd.read_csv(\"coffeeConsumption.csv\").set_index(\"Name\")\n",
    "consumptionData[\"paidPerKg\"] = np.round(consumptionData[\"paid_pounds\"]/consumptionData[\"perWeight_g\"] * 1000)\n",
    "consumptionData[\"usedCoffeeFor_days\"] = consumptionData[\"beenHereFor_months\"]*30\n",
    "consumptionData.loc[consumptionData[\"usedCoffeeFor_days\"] > int((pd.datetime.now() - data[\"Date\"][1]).days),\\\n",
    "                    \"usedCoffeeFor_days\"] = int((pd.datetime.now() - data[\"Date\"][1]).days)\n",
    "consumptionData[\"amountOfCoffeeUsed_cups\"] = np.round(consumptionData[\"consumption_cups\"] * \\\n",
    "                    consumptionData[\"usedCoffeeFor_days\"] * 4/7)\n",
    "consumptionData.head()"
   ]
  },
  {
   "cell_type": "code",
   "execution_count": 33,
   "metadata": {
    "collapsed": false
   },
   "outputs": [
    {
     "data": {
      "text/html": [
       "<div>\n",
       "<table border=\"1\" class=\"dataframe\">\n",
       "  <thead>\n",
       "    <tr style=\"text-align: right;\">\n",
       "      <th></th>\n",
       "      <th>Amount</th>\n",
       "      <th>beenHereFor_months</th>\n",
       "      <th>consumption_cups</th>\n",
       "      <th>paid_pounds</th>\n",
       "      <th>perWeight_g</th>\n",
       "      <th>paidPerKg</th>\n",
       "      <th>usedCoffeeFor_days</th>\n",
       "      <th>amountOfCoffeeUsed_cups</th>\n",
       "      <th>paidTotal_pounds</th>\n",
       "    </tr>\n",
       "    <tr>\n",
       "      <th>Name</th>\n",
       "      <th></th>\n",
       "      <th></th>\n",
       "      <th></th>\n",
       "      <th></th>\n",
       "      <th></th>\n",
       "      <th></th>\n",
       "      <th></th>\n",
       "      <th></th>\n",
       "      <th></th>\n",
       "    </tr>\n",
       "  </thead>\n",
       "  <tbody>\n",
       "    <tr>\n",
       "      <th>Amir</th>\n",
       "      <td>1618</td>\n",
       "      <td>15</td>\n",
       "      <td>0.5</td>\n",
       "      <td>3</td>\n",
       "      <td>227</td>\n",
       "      <td>13</td>\n",
       "      <td>450</td>\n",
       "      <td>129</td>\n",
       "      <td>21</td>\n",
       "    </tr>\n",
       "    <tr>\n",
       "      <th>Dylan</th>\n",
       "      <td>2227</td>\n",
       "      <td>32</td>\n",
       "      <td>1.5</td>\n",
       "      <td>3</td>\n",
       "      <td>227</td>\n",
       "      <td>13</td>\n",
       "      <td>536</td>\n",
       "      <td>459</td>\n",
       "      <td>29</td>\n",
       "    </tr>\n",
       "    <tr>\n",
       "      <th>Eilon</th>\n",
       "      <td>3708</td>\n",
       "      <td>29</td>\n",
       "      <td>1.5</td>\n",
       "      <td>18</td>\n",
       "      <td>1000</td>\n",
       "      <td>18</td>\n",
       "      <td>536</td>\n",
       "      <td>459</td>\n",
       "      <td>67</td>\n",
       "    </tr>\n",
       "    <tr>\n",
       "      <th>Helen</th>\n",
       "      <td>3850</td>\n",
       "      <td>8</td>\n",
       "      <td>2.0</td>\n",
       "      <td>3</td>\n",
       "      <td>227</td>\n",
       "      <td>13</td>\n",
       "      <td>240</td>\n",
       "      <td>274</td>\n",
       "      <td>50</td>\n",
       "    </tr>\n",
       "    <tr>\n",
       "      <th>Ian</th>\n",
       "      <td>450</td>\n",
       "      <td>100</td>\n",
       "      <td>0.0</td>\n",
       "      <td>NaN</td>\n",
       "      <td>NaN</td>\n",
       "      <td>NaN</td>\n",
       "      <td>536</td>\n",
       "      <td>0</td>\n",
       "      <td>NaN</td>\n",
       "    </tr>\n",
       "    <tr>\n",
       "      <th>Jelmer</th>\n",
       "      <td>908</td>\n",
       "      <td>6</td>\n",
       "      <td>1.0</td>\n",
       "      <td>13</td>\n",
       "      <td>1000</td>\n",
       "      <td>13</td>\n",
       "      <td>180</td>\n",
       "      <td>103</td>\n",
       "      <td>12</td>\n",
       "    </tr>\n",
       "    <tr>\n",
       "      <th>Joe</th>\n",
       "      <td>6209</td>\n",
       "      <td>20</td>\n",
       "      <td>2.0</td>\n",
       "      <td>3</td>\n",
       "      <td>227</td>\n",
       "      <td>13</td>\n",
       "      <td>536</td>\n",
       "      <td>613</td>\n",
       "      <td>81</td>\n",
       "    </tr>\n",
       "    <tr>\n",
       "      <th>Merritt</th>\n",
       "      <td>227</td>\n",
       "      <td>48</td>\n",
       "      <td>0.0</td>\n",
       "      <td>NaN</td>\n",
       "      <td>NaN</td>\n",
       "      <td>NaN</td>\n",
       "      <td>536</td>\n",
       "      <td>0</td>\n",
       "      <td>NaN</td>\n",
       "    </tr>\n",
       "    <tr>\n",
       "      <th>Peter</th>\n",
       "      <td>2727</td>\n",
       "      <td>NaN</td>\n",
       "      <td>NaN</td>\n",
       "      <td>NaN</td>\n",
       "      <td>NaN</td>\n",
       "      <td>NaN</td>\n",
       "      <td>NaN</td>\n",
       "      <td>NaN</td>\n",
       "      <td>NaN</td>\n",
       "    </tr>\n",
       "    <tr>\n",
       "      <th>Steve</th>\n",
       "      <td>3902</td>\n",
       "      <td>48</td>\n",
       "      <td>1.0</td>\n",
       "      <td>3</td>\n",
       "      <td>227</td>\n",
       "      <td>13</td>\n",
       "      <td>536</td>\n",
       "      <td>306</td>\n",
       "      <td>51</td>\n",
       "    </tr>\n",
       "    <tr>\n",
       "      <th>Thomas</th>\n",
       "      <td>1000</td>\n",
       "      <td>28</td>\n",
       "      <td>0.0</td>\n",
       "      <td>NaN</td>\n",
       "      <td>NaN</td>\n",
       "      <td>NaN</td>\n",
       "      <td>536</td>\n",
       "      <td>0</td>\n",
       "      <td>NaN</td>\n",
       "    </tr>\n",
       "    <tr>\n",
       "      <th>William</th>\n",
       "      <td>2358</td>\n",
       "      <td>17</td>\n",
       "      <td>0.5</td>\n",
       "      <td>NaN</td>\n",
       "      <td>NaN</td>\n",
       "      <td>NaN</td>\n",
       "      <td>510</td>\n",
       "      <td>146</td>\n",
       "      <td>NaN</td>\n",
       "    </tr>\n",
       "  </tbody>\n",
       "</table>\n",
       "</div>"
      ],
      "text/plain": [
       "         Amount  beenHereFor_months  consumption_cups  paid_pounds  \\\n",
       "Name                                                                 \n",
       "Amir       1618                  15               0.5            3   \n",
       "Dylan      2227                  32               1.5            3   \n",
       "Eilon      3708                  29               1.5           18   \n",
       "Helen      3850                   8               2.0            3   \n",
       "Ian         450                 100               0.0          NaN   \n",
       "Jelmer      908                   6               1.0           13   \n",
       "Joe        6209                  20               2.0            3   \n",
       "Merritt     227                  48               0.0          NaN   \n",
       "Peter      2727                 NaN               NaN          NaN   \n",
       "Steve      3902                  48               1.0            3   \n",
       "Thomas     1000                  28               0.0          NaN   \n",
       "William    2358                  17               0.5          NaN   \n",
       "\n",
       "         perWeight_g  paidPerKg  usedCoffeeFor_days  amountOfCoffeeUsed_cups  \\\n",
       "Name                                                                           \n",
       "Amir             227         13                 450                      129   \n",
       "Dylan            227         13                 536                      459   \n",
       "Eilon           1000         18                 536                      459   \n",
       "Helen            227         13                 240                      274   \n",
       "Ian              NaN        NaN                 536                        0   \n",
       "Jelmer          1000         13                 180                      103   \n",
       "Joe              227         13                 536                      613   \n",
       "Merritt          NaN        NaN                 536                        0   \n",
       "Peter            NaN        NaN                 NaN                      NaN   \n",
       "Steve            227         13                 536                      306   \n",
       "Thomas           NaN        NaN                 536                        0   \n",
       "William          NaN        NaN                 510                      146   \n",
       "\n",
       "         paidTotal_pounds  \n",
       "Name                       \n",
       "Amir                   21  \n",
       "Dylan                  29  \n",
       "Eilon                  67  \n",
       "Helen                  50  \n",
       "Ian                   NaN  \n",
       "Jelmer                 12  \n",
       "Joe                    81  \n",
       "Merritt               NaN  \n",
       "Peter                 NaN  \n",
       "Steve                  51  \n",
       "Thomas                NaN  \n",
       "William               NaN  "
      ]
     },
     "execution_count": 33,
     "metadata": {},
     "output_type": "execute_result"
    },
    {
     "data": {
      "image/png": "[encoded data removed]",
      "text/plain": [
       "<matplotlib.figure.Figure at 0xb97c828>"
      ]
     },
     "metadata": {},
     "output_type": "display_data"
    }
   ],
   "source": [
    "allData = pd.merge(groupDataByNameSorted, consumptionData, how=\"outer\", left_index=True, right_index=True)\n",
    "allData[\"paidTotal_pounds\"] = np.round(allData[\"Amount\"]/1000 * allData[\"paidPerKg\"])\n",
    "allData.sort_values(by=\"paidTotal_pounds\", ascending=False).plot(y = \"paidTotal_pounds\", kind=\"bar\", color=\"r\", lw=3)\n",
    "allData"
   ]
  },
  {
   "cell_type": "code",
   "execution_count": 34,
   "metadata": {
    "collapsed": false
   },
   "outputs": [
    {
     "data": {
      "image/png": "[encoded data removed]",
      "text/plain": [
       "<matplotlib.figure.Figure at 0xbee7940>"
      ]
     },
     "metadata": {},
     "output_type": "display_data"
    }
   ],
   "source": [
    "labels = allData.index.values\n",
    "fig = allData.plot(x=\"Amount\", y=\"amountOfCoffeeUsed_cups\", kind=\"scatter\")\n",
    "fig.plot(allData[\"Amount\"], allData[\"Amount\"]/10, 'g--')\n",
    "for x, y, lab in zip(allData[\"Amount\"], allData[\"amountOfCoffeeUsed_cups\"], labels):\n",
    "        fig.annotate(lab, xy=(x, y), xytext=(x-50,y-50))\n",
    "plt.ylabel('coffee consumed (mugs)')\n",
    "plt.xlabel('amount (g)')\n",
    "plt.savefig('consumption_vs_amountBought.pdf')"
   ]
  },
  {
   "cell_type": "code",
   "execution_count": 35,
   "metadata": {
    "collapsed": false
   },
   "outputs": [
    {
     "data": {
      "image/png": "[encoded data removed]",
      "text/plain": [
       "<matplotlib.figure.Figure at 0xb9f6dd8>"
      ]
     },
     "metadata": {},
     "output_type": "display_data"
    }
   ],
   "source": [
    "groupedByMonth = data.groupby(\"Month\")\n",
    "groupedbyMonthSorted = groupedByMonth.sum()\n",
    "groupedbyMonthSorted.Amount.plot(kind=\"bar\", color=\"g\", lw = 3)\n",
    "plt.ylabel(\"coffe bought (g)\")\n",
    "plt.savefig(\"vsMonths.png\")"
   ]
  },
  {
   "cell_type": "code",
   "execution_count": 36,
   "metadata": {
    "collapsed": false
   },
   "outputs": [
    {
     "data": {
      "image/png": "[encoded data removed]",
      "text/plain": [
       "<matplotlib.figure.Figure at 0xbd5aba8>"
      ]
     },
     "metadata": {},
     "output_type": "display_data"
    }
   ],
   "source": [
    "d1 = data[\"Date\"][1:].reset_index(drop=True)\n",
    "d2 = data[\"Date\"][:-1].reset_index(drop=True)\n",
    "((d1-d2).dt.days).hist(color=\"r\", lw=2)\n",
    "plt.xlabel('how often coffee is bought (days)')\n",
    "plt.savefig('frequency.pdf')"
   ]
  },
  {
   "cell_type": "code",
   "execution_count": 37,
   "metadata": {
    "collapsed": false
   },
   "outputs": [
    {
     "data": {
      "text/plain": [
       "<matplotlib.axes._subplots.AxesSubplot at 0xd174438>"
      ]
     },
     "execution_count": 37,
     "metadata": {},
     "output_type": "execute_result"
    },
    {
     "data": {
      "image/png": "[encoded data removed]",
      "text/plain": [
       "<matplotlib.figure.Figure at 0xcf04630>"
      ]
     },
     "metadata": {},
     "output_type": "display_data"
    }
   ],
   "source": [
    "a1 = data[\"Amount\"][:-1]\n",
    "(((d1-d2).dt.days)/a1*np.mean(a1)).hist()"
   ]
  },
  {
   "cell_type": "code",
   "execution_count": null,
   "metadata": {
    "collapsed": true
   },
   "outputs": [],
   "source": []
  }
 ],
 "metadata": {
  "kernelspec": {
   "display_name": "Python 2",
   "language": "python",
   "name": "python2"
  },
  "language_info": {
   "codemirror_mode": {
    "name": "ipython",
    "version": 2
   },
   "file_extension": ".py",
   "mimetype": "text/x-python",
   "name": "python",
   "nbconvert_exporter": "python",
   "pygments_lexer": "ipython2",
   "version": "2.7.11rc1"
  }
 },
 "nbformat": 4,
 "nbformat_minor": 0
}
