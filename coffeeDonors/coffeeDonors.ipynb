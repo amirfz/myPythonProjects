{
 "cells": [
  {
   "cell_type": "code",
   "execution_count": 164,
   "metadata": {
    "collapsed": false
   },
   "outputs": [],
   "source": [
    "from pandas import *\n",
    "import pandas as pd\n",
    "import matplotlib.pyplot as plt\n",
    "%matplotlib inline"
   ]
  },
  {
   "cell_type": "code",
   "execution_count": 165,
   "metadata": {
    "collapsed": false
   },
   "outputs": [
    {
     "data": {
      "text/html": [
       "<div>\n",
       "<table border=\"1\" class=\"dataframe\">\n",
       "  <thead>\n",
       "    <tr style=\"text-align: right;\">\n",
       "      <th></th>\n",
       "      <th>Name</th>\n",
       "      <th>Amount</th>\n",
       "      <th>Date</th>\n",
       "    </tr>\n",
       "  </thead>\n",
       "  <tbody>\n",
       "    <tr>\n",
       "      <th>0</th>\n",
       "      <td>Dylan</td>\n",
       "      <td>500</td>\n",
       "      <td>2014-09-16</td>\n",
       "    </tr>\n",
       "    <tr>\n",
       "      <th>1</th>\n",
       "      <td>Joe</td>\n",
       "      <td>227</td>\n",
       "      <td>2014-10-10</td>\n",
       "    </tr>\n",
       "    <tr>\n",
       "      <th>2</th>\n",
       "      <td>William</td>\n",
       "      <td>227</td>\n",
       "      <td>2014-10-20</td>\n",
       "    </tr>\n",
       "    <tr>\n",
       "      <th>3</th>\n",
       "      <td>Joe</td>\n",
       "      <td>227</td>\n",
       "      <td>2014-10-23</td>\n",
       "    </tr>\n",
       "    <tr>\n",
       "      <th>4</th>\n",
       "      <td>Peter</td>\n",
       "      <td>500</td>\n",
       "      <td>2014-10-25</td>\n",
       "    </tr>\n",
       "  </tbody>\n",
       "</table>\n",
       "</div>"
      ],
      "text/plain": [
       "      Name  Amount       Date\n",
       "0    Dylan     500 2014-09-16\n",
       "1      Joe     227 2014-10-10\n",
       "2  William     227 2014-10-20\n",
       "3      Joe     227 2014-10-23\n",
       "4    Peter     500 2014-10-25"
      ]
     },
     "execution_count": 165,
     "metadata": {},
     "output_type": "execute_result"
    }
   ],
   "source": [
    "parser = lambda date: pd.datetime.strptime(date, '%d/%m/%Y')\n",
    "data = read_csv(\"coffeeDonors.csv\", parse_dates=[2], date_parser=parser)\n",
    "data = data.sort_values(by = \"Date\")\n",
    "data.head()"
   ]
  },
  {
   "cell_type": "code",
   "execution_count": 214,
   "metadata": {
    "collapsed": false
   },
   "outputs": [
    {
     "data": {
      "text/plain": [
       "508"
      ]
     },
     "execution_count": 214,
     "metadata": {},
     "output_type": "execute_result"
    }
   ],
   "source": [
    "int((datetime.now() - data[\"Date\"][1]).days)"
   ]
  },
  {
   "cell_type": "code",
   "execution_count": 167,
   "metadata": {
    "collapsed": false
   },
   "outputs": [
    {
     "data": {
      "text/html": [
       "<div>\n",
       "<table border=\"1\" class=\"dataframe\">\n",
       "  <thead>\n",
       "    <tr style=\"text-align: right;\">\n",
       "      <th></th>\n",
       "      <th>Name</th>\n",
       "      <th>Amount</th>\n",
       "      <th>Date</th>\n",
       "    </tr>\n",
       "  </thead>\n",
       "  <tbody>\n",
       "    <tr>\n",
       "      <th>16</th>\n",
       "      <td>Amir</td>\n",
       "      <td>260</td>\n",
       "      <td>2015-01-28</td>\n",
       "    </tr>\n",
       "    <tr>\n",
       "      <th>23</th>\n",
       "      <td>Amir</td>\n",
       "      <td>450</td>\n",
       "      <td>2015-03-01</td>\n",
       "    </tr>\n",
       "    <tr>\n",
       "      <th>34</th>\n",
       "      <td>Amir</td>\n",
       "      <td>227</td>\n",
       "      <td>2015-04-26</td>\n",
       "    </tr>\n",
       "    <tr>\n",
       "      <th>43</th>\n",
       "      <td>Amir</td>\n",
       "      <td>227</td>\n",
       "      <td>2015-06-09</td>\n",
       "    </tr>\n",
       "    <tr>\n",
       "      <th>44</th>\n",
       "      <td>Amir</td>\n",
       "      <td>227</td>\n",
       "      <td>2015-06-16</td>\n",
       "    </tr>\n",
       "    <tr>\n",
       "      <th>56</th>\n",
       "      <td>Amir</td>\n",
       "      <td>227</td>\n",
       "      <td>2015-10-15</td>\n",
       "    </tr>\n",
       "  </tbody>\n",
       "</table>\n",
       "</div>"
      ],
      "text/plain": [
       "    Name  Amount       Date\n",
       "16  Amir     260 2015-01-28\n",
       "23  Amir     450 2015-03-01\n",
       "34  Amir     227 2015-04-26\n",
       "43  Amir     227 2015-06-09\n",
       "44  Amir     227 2015-06-16\n",
       "56  Amir     227 2015-10-15"
      ]
     },
     "execution_count": 167,
     "metadata": {},
     "output_type": "execute_result"
    }
   ],
   "source": [
    "data[data.Name == 'Amir']"
   ]
  },
  {
   "cell_type": "code",
   "execution_count": 168,
   "metadata": {
    "collapsed": false
   },
   "outputs": [],
   "source": [
    "data[\"Month\"] = data[\"Date\"].dt.month"
   ]
  },
  {
   "cell_type": "code",
   "execution_count": 169,
   "metadata": {
    "collapsed": false
   },
   "outputs": [
    {
     "data": {
      "text/html": [
       "<div>\n",
       "<table border=\"1\" class=\"dataframe\">\n",
       "  <thead>\n",
       "    <tr style=\"text-align: right;\">\n",
       "      <th></th>\n",
       "      <th>Name</th>\n",
       "      <th>Amount</th>\n",
       "      <th>Date</th>\n",
       "      <th>Month</th>\n",
       "    </tr>\n",
       "  </thead>\n",
       "  <tbody>\n",
       "    <tr>\n",
       "      <th>0</th>\n",
       "      <td>Dylan</td>\n",
       "      <td>500</td>\n",
       "      <td>2014-09-16</td>\n",
       "      <td>9</td>\n",
       "    </tr>\n",
       "    <tr>\n",
       "      <th>1</th>\n",
       "      <td>Joe</td>\n",
       "      <td>227</td>\n",
       "      <td>2014-10-10</td>\n",
       "      <td>10</td>\n",
       "    </tr>\n",
       "    <tr>\n",
       "      <th>2</th>\n",
       "      <td>William</td>\n",
       "      <td>227</td>\n",
       "      <td>2014-10-20</td>\n",
       "      <td>10</td>\n",
       "    </tr>\n",
       "    <tr>\n",
       "      <th>3</th>\n",
       "      <td>Joe</td>\n",
       "      <td>227</td>\n",
       "      <td>2014-10-23</td>\n",
       "      <td>10</td>\n",
       "    </tr>\n",
       "    <tr>\n",
       "      <th>4</th>\n",
       "      <td>Peter</td>\n",
       "      <td>500</td>\n",
       "      <td>2014-10-25</td>\n",
       "      <td>10</td>\n",
       "    </tr>\n",
       "  </tbody>\n",
       "</table>\n",
       "</div>"
      ],
      "text/plain": [
       "      Name  Amount       Date  Month\n",
       "0    Dylan     500 2014-09-16      9\n",
       "1      Joe     227 2014-10-10     10\n",
       "2  William     227 2014-10-20     10\n",
       "3      Joe     227 2014-10-23     10\n",
       "4    Peter     500 2014-10-25     10"
      ]
     },
     "execution_count": 169,
     "metadata": {},
     "output_type": "execute_result"
    }
   ],
   "source": [
    "data.head()"
   ]
  },
  {
   "cell_type": "code",
   "execution_count": 241,
   "metadata": {
    "collapsed": false
   },
   "outputs": [
    {
     "data": {
      "text/html": [
       "<div>\n",
       "<table border=\"1\" class=\"dataframe\">\n",
       "  <thead>\n",
       "    <tr style=\"text-align: right;\">\n",
       "      <th></th>\n",
       "      <th>Amount</th>\n",
       "      <th>Month</th>\n",
       "    </tr>\n",
       "    <tr>\n",
       "      <th>Name</th>\n",
       "      <th></th>\n",
       "      <th></th>\n",
       "    </tr>\n",
       "  </thead>\n",
       "  <tbody>\n",
       "    <tr>\n",
       "      <th>Joe</th>\n",
       "      <td>6209</td>\n",
       "      <td>128</td>\n",
       "    </tr>\n",
       "    <tr>\n",
       "      <th>Steve</th>\n",
       "      <td>3902</td>\n",
       "      <td>53</td>\n",
       "    </tr>\n",
       "    <tr>\n",
       "      <th>Eilon</th>\n",
       "      <td>3708</td>\n",
       "      <td>40</td>\n",
       "    </tr>\n",
       "    <tr>\n",
       "      <th>Helen</th>\n",
       "      <td>3169</td>\n",
       "      <td>36</td>\n",
       "    </tr>\n",
       "    <tr>\n",
       "      <th>Peter</th>\n",
       "      <td>2727</td>\n",
       "      <td>40</td>\n",
       "    </tr>\n",
       "  </tbody>\n",
       "</table>\n",
       "</div>"
      ],
      "text/plain": [
       "       Amount  Month\n",
       "Name                \n",
       "Joe      6209    128\n",
       "Steve    3902     53\n",
       "Eilon    3708     40\n",
       "Helen    3169     36\n",
       "Peter    2727     40"
      ]
     },
     "execution_count": 241,
     "metadata": {},
     "output_type": "execute_result"
    },
    {
     "data": {
      "image/png": "[encoded data removed]",
      "text/plain": [
       "<matplotlib.figure.Figure at 0x1239d470>"
      ]
     },
     "metadata": {},
     "output_type": "display_data"
    }
   ],
   "source": [
    "groupedDataByName = data.groupby(\"Name\")\n",
    "groupDataByNameSorted = groupedDataByName.sum().sort_values(by = \"Amount\", ascending = False)\n",
    "groupDataByNameSorted.Amount.plot(kind='bar')\n",
    "groupDataByNameSorted.head()"
   ]
  },
  {
   "cell_type": "code",
   "execution_count": 239,
   "metadata": {
    "collapsed": false
   },
   "outputs": [
    {
     "data": {
      "text/html": [
       "<div>\n",
       "<table border=\"1\" class=\"dataframe\">\n",
       "  <thead>\n",
       "    <tr style=\"text-align: right;\">\n",
       "      <th></th>\n",
       "      <th>Been here for (months)</th>\n",
       "      <th>consumption (cups)</th>\n",
       "      <th>paid (pound)</th>\n",
       "      <th>per weight (g)</th>\n",
       "      <th>paid per kg</th>\n",
       "      <th>used coffee for (days)</th>\n",
       "      <th>Amount of coffee used (cups)</th>\n",
       "    </tr>\n",
       "    <tr>\n",
       "      <th>Name</th>\n",
       "      <th></th>\n",
       "      <th></th>\n",
       "      <th></th>\n",
       "      <th></th>\n",
       "      <th></th>\n",
       "      <th></th>\n",
       "      <th></th>\n",
       "    </tr>\n",
       "  </thead>\n",
       "  <tbody>\n",
       "    <tr>\n",
       "      <th>Dylan</th>\n",
       "      <td>32</td>\n",
       "      <td>1.5</td>\n",
       "      <td>3</td>\n",
       "      <td>227</td>\n",
       "      <td>13</td>\n",
       "      <td>508</td>\n",
       "      <td>435</td>\n",
       "    </tr>\n",
       "    <tr>\n",
       "      <th>Jelmer</th>\n",
       "      <td>6</td>\n",
       "      <td>4.0</td>\n",
       "      <td>13</td>\n",
       "      <td>1000</td>\n",
       "      <td>13</td>\n",
       "      <td>180</td>\n",
       "      <td>411</td>\n",
       "    </tr>\n",
       "    <tr>\n",
       "      <th>Eilon</th>\n",
       "      <td>29</td>\n",
       "      <td>1.5</td>\n",
       "      <td>18</td>\n",
       "      <td>1000</td>\n",
       "      <td>18</td>\n",
       "      <td>508</td>\n",
       "      <td>435</td>\n",
       "    </tr>\n",
       "  </tbody>\n",
       "</table>\n",
       "</div>"
      ],
      "text/plain": [
       "        Been here for (months)  consumption (cups)  paid (pound)  \\\n",
       "Name                                                               \n",
       "Dylan                       32                 1.5             3   \n",
       "Jelmer                       6                 4.0            13   \n",
       "Eilon                       29                 1.5            18   \n",
       "\n",
       "        per weight (g)  paid per kg  used coffee for (days)  \\\n",
       "Name                                                          \n",
       "Dylan              227           13                     508   \n",
       "Jelmer            1000           13                     180   \n",
       "Eilon             1000           18                     508   \n",
       "\n",
       "        Amount of coffee used (cups)  \n",
       "Name                                  \n",
       "Dylan                            435  \n",
       "Jelmer                           411  \n",
       "Eilon                            435  "
      ]
     },
     "execution_count": 239,
     "metadata": {},
     "output_type": "execute_result"
    }
   ],
   "source": [
    "consumptionData = read_csv(\"coffeeConsumption.csv\").set_index(\"Name\")\n",
    "consumptionData[\"paid per kg\"] = np.round(consumptionData[\"paid (pound)\"]/consumptionData[\"per weight (g)\"] * 1000)\n",
    "consumptionData[\"used coffee for (days)\"] = consumptionData[\"Been here for (months)\"]*30\n",
    "consumptionData.loc[consumptionData[\"used coffee for (days)\"] > int((datetime.now() - data[\"Date\"][1]).days),\\\n",
    "                    \"used coffee for (days)\"] = int((datetime.now() - data[\"Date\"][1]).days)\n",
    "consumptionData[\"Amount of coffee used (cups)\"] = np.round(consumptionData[\"consumption (cups)\"] * \\\n",
    "                    consumptionData[\"used coffee for (days)\"] * 4/7)\n",
    "consumptionData.head()"
   ]
  },
  {
   "cell_type": "code",
   "execution_count": 248,
   "metadata": {
    "collapsed": false
   },
   "outputs": [
    {
     "data": {
      "text/html": [
       "<div>\n",
       "<table border=\"1\" class=\"dataframe\">\n",
       "  <thead>\n",
       "    <tr style=\"text-align: right;\">\n",
       "      <th></th>\n",
       "      <th>Amount</th>\n",
       "      <th>Month</th>\n",
       "      <th>Been here for (months)</th>\n",
       "      <th>consumption (cups)</th>\n",
       "      <th>paid (pound)</th>\n",
       "      <th>per weight (g)</th>\n",
       "      <th>paid per kg</th>\n",
       "      <th>used coffee for (days)</th>\n",
       "      <th>Amount of coffee used (cups)</th>\n",
       "    </tr>\n",
       "    <tr>\n",
       "      <th>Name</th>\n",
       "      <th></th>\n",
       "      <th></th>\n",
       "      <th></th>\n",
       "      <th></th>\n",
       "      <th></th>\n",
       "      <th></th>\n",
       "      <th></th>\n",
       "      <th></th>\n",
       "      <th></th>\n",
       "    </tr>\n",
       "  </thead>\n",
       "  <tbody>\n",
       "    <tr>\n",
       "      <th>Dylan</th>\n",
       "      <td>2227</td>\n",
       "      <td>28</td>\n",
       "      <td>32</td>\n",
       "      <td>1.5</td>\n",
       "      <td>3</td>\n",
       "      <td>227</td>\n",
       "      <td>13</td>\n",
       "      <td>508</td>\n",
       "      <td>435</td>\n",
       "    </tr>\n",
       "    <tr>\n",
       "      <th>Jelmer</th>\n",
       "      <td>908</td>\n",
       "      <td>9</td>\n",
       "      <td>6</td>\n",
       "      <td>4.0</td>\n",
       "      <td>13</td>\n",
       "      <td>1000</td>\n",
       "      <td>13</td>\n",
       "      <td>180</td>\n",
       "      <td>411</td>\n",
       "    </tr>\n",
       "    <tr>\n",
       "      <th>Eilon</th>\n",
       "      <td>3708</td>\n",
       "      <td>40</td>\n",
       "      <td>29</td>\n",
       "      <td>1.5</td>\n",
       "      <td>18</td>\n",
       "      <td>1000</td>\n",
       "      <td>18</td>\n",
       "      <td>508</td>\n",
       "      <td>435</td>\n",
       "    </tr>\n",
       "  </tbody>\n",
       "</table>\n",
       "</div>"
      ],
      "text/plain": [
       "        Amount  Month  Been here for (months)  consumption (cups)  \\\n",
       "Name                                                                \n",
       "Dylan     2227     28                      32                 1.5   \n",
       "Jelmer     908      9                       6                 4.0   \n",
       "Eilon     3708     40                      29                 1.5   \n",
       "\n",
       "        paid (pound)  per weight (g)  paid per kg  used coffee for (days)  \\\n",
       "Name                                                                        \n",
       "Dylan              3             227           13                     508   \n",
       "Jelmer            13            1000           13                     180   \n",
       "Eilon             18            1000           18                     508   \n",
       "\n",
       "        Amount of coffee used (cups)  \n",
       "Name                                  \n",
       "Dylan                            435  \n",
       "Jelmer                           411  \n",
       "Eilon                            435  "
      ]
     },
     "execution_count": 248,
     "metadata": {},
     "output_type": "execute_result"
    }
   ],
   "source": [
    "allData = pd.merge(groupDataByNameSorted, consumptionData, left_index=True, right_index=True)\n",
    "allData.head()"
   ]
  },
  {
   "cell_type": "code",
   "execution_count": 188,
   "metadata": {
    "collapsed": false
   },
   "outputs": [
    {
     "data": {
      "image/png": "[encoded data removed]",
      "text/plain": [
       "<matplotlib.figure.Figure at 0x12243550>"
      ]
     },
     "metadata": {},
     "output_type": "display_data"
    }
   ],
   "source": [
    "groupedByMonth = data.groupby(\"Month\")\n",
    "groupedbyMonthSorted = groupedByMonth.sum()\n",
    "groupedbyMonthSorted.Amount.plot(linestyle='--', marker='s', color=\"g\", lw = 3)\n",
    "plt.ylabel(\"coffe bought (g)\")\n",
    "plt.savefig(\"vsMonths.pdf\")"
   ]
  },
  {
   "cell_type": "code",
   "execution_count": 182,
   "metadata": {
    "collapsed": false
   },
   "outputs": [
    {
     "data": {
      "text/plain": [
       "<matplotlib.text.Text at 0x11899ac8>"
      ]
     },
     "execution_count": 182,
     "metadata": {},
     "output_type": "execute_result"
    },
    {
     "data": {
      "image/png": "[encoded data removed]",
      "text/plain": [
       "<matplotlib.figure.Figure at 0xe73b550>"
      ]
     },
     "metadata": {},
     "output_type": "display_data"
    }
   ],
   "source": [
    "d1 = data[\"Date\"][1:].reset_index(drop=True)\n",
    "d2 = data[\"Date\"][:-1].reset_index(drop=True)\n",
    "((d1-d2).dt.days).hist()\n",
    "plt.xlabel('how often coffee is bought (days)')"
   ]
  },
  {
   "cell_type": "code",
   "execution_count": 186,
   "metadata": {
    "collapsed": false
   },
   "outputs": [
    {
     "data": {
      "text/plain": [
       "<matplotlib.axes._subplots.AxesSubplot at 0x118634e0>"
      ]
     },
     "execution_count": 186,
     "metadata": {},
     "output_type": "execute_result"
    },
    {
     "data": {
      "image/png": "[encoded data removed]",
      "text/plain": [
       "<matplotlib.figure.Figure at 0x10e51dd8>"
      ]
     },
     "metadata": {},
     "output_type": "display_data"
    }
   ],
   "source": [
    "a1 = data[\"Amount\"][:-1]\n",
    "(((d1-d2).dt.days)/a1*np.mean(a1)).hist()"
   ]
  },
  {
   "cell_type": "code",
   "execution_count": null,
   "metadata": {
    "collapsed": true
   },
   "outputs": [],
   "source": []
  }
 ],
 "metadata": {
  "kernelspec": {
   "display_name": "Python 2",
   "language": "python",
   "name": "python2"
  },
  "language_info": {
   "codemirror_mode": {
    "name": "ipython",
    "version": 2
   },
   "file_extension": ".py",
   "mimetype": "text/x-python",
   "name": "python",
   "nbconvert_exporter": "python",
   "pygments_lexer": "ipython2",
   "version": "2.7.11rc1"
  }
 },
 "nbformat": 4,
 "nbformat_minor": 0
}
