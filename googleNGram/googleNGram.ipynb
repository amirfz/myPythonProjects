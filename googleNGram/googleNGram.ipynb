{
 "cells": [
  {
   "cell_type": "code",
   "execution_count": 1,
   "metadata": {
    "collapsed": true
   },
   "outputs": [],
   "source": [
    "import numpy as np\n",
    "import pandas as pd\n",
    "import matplotlib.pyplot as plt\n",
    "#%matplotlib nbagg\n",
    "%matplotlib inline"
   ]
  },
  {
   "cell_type": "markdown",
   "metadata": {},
   "source": [
    "see https://en.wikipedia.org/wiki/WordNet for details"
   ]
  },
  {
   "cell_type": "code",
   "execution_count": 2,
   "metadata": {
    "collapsed": false
   },
   "outputs": [
    {
     "data": {
      "text/plain": [
       "(['love', 'passion', 'sexual_love', 'erotic_love', 'hump'],\n",
       " ['love',\n",
       "  'passion',\n",
       "  'beloved',\n",
       "  'dear',\n",
       "  'dearest',\n",
       "  'honey',\n",
       "  'sexual_love',\n",
       "  'erotic_love',\n",
       "  'lovemaking',\n",
       "  'making_love',\n",
       "  'love_life',\n",
       "  'enjoy',\n",
       "  'sleep_together',\n",
       "  'roll_in_the_hay',\n",
       "  'make_out',\n",
       "  'make_love',\n",
       "  'sleep_with',\n",
       "  'get_laid',\n",
       "  'have_sex',\n",
       "  'know',\n",
       "  'do_it',\n",
       "  'be_intimate',\n",
       "  'have_intercourse',\n",
       "  'have_it_away',\n",
       "  'have_it_off',\n",
       "  'screw',\n",
       "  'fuck',\n",
       "  'jazz',\n",
       "  'eff',\n",
       "  'hump',\n",
       "  'lie_with',\n",
       "  'bed',\n",
       "  'have_a_go_at_it',\n",
       "  'bang',\n",
       "  'get_it_on',\n",
       "  'bonk'],\n",
       " [1.0, 0.7692307692307693, 0.6666666666666666, 0.6666666666666666, 0.4])"
      ]
     },
     "execution_count": 2,
     "metadata": {},
     "output_type": "execute_result"
    }
   ],
   "source": [
    "import nltk\n",
    "from nltk.corpus import wordnet as wn\n",
    "\n",
    "targetWord = 'love'\n",
    "syns = wn.synsets(targetWord)\n",
    "wordCloud = []\n",
    "wordCloudOriginal = []\n",
    "wordCloudSim = [] # similarity to the target word\n",
    "for word in syns:\n",
    "    for lemma in word.lemmas():\n",
    "        if lemma.name() not in wordCloudOriginal:\n",
    "            wordCloudOriginal.append(str(lemma.name()))\n",
    "            if wn.synsets(targetWord)[0].wup_similarity(wn.synsets(lemma.name())[0]) > 0.3:\n",
    "                wordCloud.append(str(lemma.name()))\n",
    "                wordCloudSim.append(wn.synsets(targetWord)[0].wup_similarity(wn.synsets(lemma.name())[0]))\n",
    "            \n",
    "wordCloud, wordCloudOriginal, wordCloudSim"
   ]
  },
  {
   "cell_type": "markdown",
   "metadata": {},
   "source": [
    "the problem with this is that, this list only contains 'lemmas' and not various forms of the words (loved, lover, loving, ...)"
   ]
  },
  {
   "cell_type": "code",
   "execution_count": 3,
   "metadata": {
    "collapsed": false
   },
   "outputs": [
    {
     "name": "stdout",
     "output_type": "stream",
     "text": [
      "love\n",
      "406\n",
      "0\n",
      "passion\n",
      "391\n",
      "0\n",
      "0\n",
      "sexual_love\n",
      "0\n",
      "0\n",
      "0\n",
      "0\n",
      "0\n",
      "0\n",
      "0\n",
      "0\n",
      "0\n",
      "0\n",
      "197\n",
      "erotic_love\n",
      "117\n",
      "hump\n",
      "279\n",
      "0\n"
     ]
    },
    {
     "data": {
      "text/html": [
       "<div>\n",
       "<table border=\"1\" class=\"dataframe\">\n",
       "  <thead>\n",
       "    <tr style=\"text-align: right;\">\n",
       "      <th></th>\n",
       "      <th>ngram</th>\n",
       "      <th>year</th>\n",
       "      <th>match_count</th>\n",
       "      <th>volume_count</th>\n",
       "    </tr>\n",
       "  </thead>\n",
       "  <tbody>\n",
       "    <tr>\n",
       "      <th>1385</th>\n",
       "      <td>hump</td>\n",
       "      <td>2004</td>\n",
       "      <td>14979</td>\n",
       "      <td>7805</td>\n",
       "    </tr>\n",
       "    <tr>\n",
       "      <th>1386</th>\n",
       "      <td>hump</td>\n",
       "      <td>2005</td>\n",
       "      <td>14485</td>\n",
       "      <td>7807</td>\n",
       "    </tr>\n",
       "    <tr>\n",
       "      <th>1387</th>\n",
       "      <td>hump</td>\n",
       "      <td>2006</td>\n",
       "      <td>14156</td>\n",
       "      <td>7643</td>\n",
       "    </tr>\n",
       "    <tr>\n",
       "      <th>1388</th>\n",
       "      <td>hump</td>\n",
       "      <td>2007</td>\n",
       "      <td>14985</td>\n",
       "      <td>8290</td>\n",
       "    </tr>\n",
       "    <tr>\n",
       "      <th>1389</th>\n",
       "      <td>hump</td>\n",
       "      <td>2008</td>\n",
       "      <td>18917</td>\n",
       "      <td>10656</td>\n",
       "    </tr>\n",
       "  </tbody>\n",
       "</table>\n",
       "</div>"
      ],
      "text/plain": [
       "     ngram  year  match_count  volume_count\n",
       "1385  hump  2004        14979          7805\n",
       "1386  hump  2005        14485          7807\n",
       "1387  hump  2006        14156          7643\n",
       "1388  hump  2007        14985          8290\n",
       "1389  hump  2008        18917         10656"
      ]
     },
     "execution_count": 3,
     "metadata": {},
     "output_type": "execute_result"
    }
   ],
   "source": [
    "import os.path\n",
    "import urllib\n",
    "\n",
    "columns = ['ngram', 'year', 'match_count', 'volume_count']\n",
    "dataf = pd.DataFrame(columns=columns)\n",
    "for word in wordCloud:\n",
    "    print word\n",
    "    wordsp = word.split('_')\n",
    "    n = len(wordsp)\n",
    "    indices = word[:min(2,n)]\n",
    "    filename = 'googlebooks-eng-all-{}gram-20120701-{}.gz'.format(n, indices)\n",
    "    url = \"http://storage.googleapis.com/books/ngrams/books/\"+filename\n",
    "    \n",
    "    if not os.path.isfile(filename):\n",
    "        urllib.urlretrieve (url, filename)\n",
    "    elif int(urllib.urlopen(url).info()['Content-Length']) != os.stat(filename).st_size:\n",
    "        urllib.urlretrieve (url, filename)\n",
    "        \n",
    "    for chunk in pd.read_table(filename, sep='\\t', header=None, names=columns, chunksize=40000000):\n",
    "        dataf = dataf.append(chunk[chunk.ngram == ' '.join(word.split('_'))], ignore_index=True)\n",
    "        print sum(chunk.ngram == ' '.join(word.split('_')))\n",
    "        \n",
    "dataf.tail()"
   ]
  },
  {
   "cell_type": "code",
   "execution_count": 4,
   "metadata": {
    "collapsed": false
   },
   "outputs": [],
   "source": [
    "dataf.to_csv('dataset_for_'+targetWord+'_wordCloud.csv.gz', sep=',', compression='gzip')"
   ]
  },
  {
   "cell_type": "code",
   "execution_count": 25,
   "metadata": {
    "collapsed": false
   },
   "outputs": [
    {
     "data": {
      "text/plain": [
       "(0, 50)"
      ]
     },
     "execution_count": 25,
     "metadata": {},
     "output_type": "execute_result"
    },
    {
     "data": {
      "image/png": "[encoded data removed]",
      "text/plain": [
       "<matplotlib.figure.Figure at 0x759b8588>"
      ]
     },
     "metadata": {},
     "output_type": "display_data"
    }
   ],
   "source": [
    "for key, grp in dataf.groupby(by='ngram'):\n",
    "    plt.plot(grp.year, grp.match_count/grp.volume_count, label=key)\n",
    "    plt.annotate(key, xy=(2010, grp.match_count[grp.year==2008]/grp.volume_count[grp.year==2008]))\n",
    "plt.legend(loc='upper center', bbox_to_anchor=(1.3, 1.05), ncol=1, fancybox=True, shadow=True)\n",
    "plt.xlim(1860,2010)\n",
    "plt.ylim(0,50)"
   ]
  },
  {
   "cell_type": "code",
   "execution_count": 6,
   "metadata": {
    "collapsed": false
   },
   "outputs": [],
   "source": [
    "#data_check = pd.read_table('googlebooks-eng-all-1gram-20120701-d.gz', sep='\\t', header=None, names=columns)"
   ]
  },
  {
   "cell_type": "code",
   "execution_count": 7,
   "metadata": {
    "collapsed": false
   },
   "outputs": [],
   "source": [
    "#plt.plot(data_check[data_check.ngram=='dog'].year, \\\n",
    "#         data_check[data_check.ngram=='dog'].match_count/data_check[data_check.ngram=='dog'].volume_count)\n",
    "#plt.xlim(1850,2016)\n",
    "#plt.ylim(5,12)"
   ]
  },
  {
   "cell_type": "code",
   "execution_count": 8,
   "metadata": {
    "collapsed": false
   },
   "outputs": [],
   "source": [
    "dataf_groups = dataf.groupby(by='year', as_index=True).sum()"
   ]
  },
  {
   "cell_type": "code",
   "execution_count": 14,
   "metadata": {
    "collapsed": false
   },
   "outputs": [
    {
     "data": {
      "image/png": "[encoded data removed]",
      "text/plain": [
       "<matplotlib.figure.Figure at 0x58df5358>"
      ]
     },
     "metadata": {},
     "output_type": "display_data"
    }
   ],
   "source": [
    "plt.plot(dataf_groups.index.values, dataf_groups.match_count/dataf_groups.volume_count)\n",
    "# plt.plot(dataf[dataf.ngram=='love'].year, dataf[dataf.ngram=='love'].match_count/dataf[dataf.ngram=='love'].volume_count)\n",
    "# plt.plot(dataf_groups.index.values, dataf_groups.match_count)\n",
    "plt.axvspan(1914, 1918, color='y', alpha=0.5, lw=0)\n",
    "plt.annotate('world war I', xy=(1914,15), rotation=np.degrees(3.14/2))\n",
    "plt.axvspan(1939, 1945, color='y', alpha=0.5, lw=0)\n",
    "plt.annotate('world war II', xy=(1940,15), rotation=np.degrees(3.14/2))\n",
    "plt.axvspan(1955, 1975, color='y', alpha=0.5, lw=0)\n",
    "plt.annotate('vietnam war', xy=(1963,15), rotation=np.degrees(3.14/2))\n",
    "#plt.axvspan(1960, 2008, color='y', alpha=0.5, lw=0)\n",
    "#plt.annotate('women liberation', xy=(1968,8), rotation=np.degrees(3.14/2))\n",
    "plt.xlim(1850,2016)\n",
    "plt.ylim(5,32)\n",
    "plt.title(targetWord)\n",
    "plt.xlabel('year')\n",
    "plt.ylabel('frequency per document')\n",
    "plt.savefig('dataset_for_'+targetWord+'_wordCloud.png')"
   ]
  },
  {
   "cell_type": "code",
   "execution_count": null,
   "metadata": {
    "collapsed": true
   },
   "outputs": [],
   "source": []
  }
 ],
 "metadata": {
  "kernelspec": {
   "display_name": "Python 2",
   "language": "python",
   "name": "python2"
  },
  "language_info": {
   "codemirror_mode": {
    "name": "ipython",
    "version": 2
   },
   "file_extension": ".py",
   "mimetype": "text/x-python",
   "name": "python",
   "nbconvert_exporter": "python",
   "pygments_lexer": "ipython2",
   "version": "2.7.11rc1"
  }
 },
 "nbformat": 4,
 "nbformat_minor": 0
}
