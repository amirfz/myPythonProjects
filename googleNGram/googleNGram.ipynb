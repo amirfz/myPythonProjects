{
 "cells": [
  {
   "cell_type": "code",
   "execution_count": 1,
   "metadata": {
    "collapsed": true
   },
   "outputs": [],
   "source": [
    "import numpy as np\n",
    "import pandas as pd\n",
    "import matplotlib.pyplot as plt\n",
    "% matplotlib inline"
   ]
  },
  {
   "cell_type": "code",
   "execution_count": 2,
   "metadata": {
    "collapsed": false
   },
   "outputs": [
    {
     "data": {
      "text/html": [
       "<div>\n",
       "<table border=\"1\" class=\"dataframe\">\n",
       "  <thead>\n",
       "    <tr style=\"text-align: right;\">\n",
       "      <th></th>\n",
       "      <th>ngram</th>\n",
       "      <th>year</th>\n",
       "      <th>match_count</th>\n",
       "      <th>volume_count</th>\n",
       "    </tr>\n",
       "  </thead>\n",
       "  <tbody>\n",
       "    <tr>\n",
       "      <th>0</th>\n",
       "      <td>L.2.2</td>\n",
       "      <td>1958</td>\n",
       "      <td>1</td>\n",
       "      <td>1</td>\n",
       "    </tr>\n",
       "    <tr>\n",
       "      <th>1</th>\n",
       "      <td>L.2.2</td>\n",
       "      <td>1964</td>\n",
       "      <td>1</td>\n",
       "      <td>1</td>\n",
       "    </tr>\n",
       "    <tr>\n",
       "      <th>2</th>\n",
       "      <td>L.2.2</td>\n",
       "      <td>1970</td>\n",
       "      <td>1</td>\n",
       "      <td>1</td>\n",
       "    </tr>\n",
       "    <tr>\n",
       "      <th>3</th>\n",
       "      <td>L.2.2</td>\n",
       "      <td>1971</td>\n",
       "      <td>2</td>\n",
       "      <td>2</td>\n",
       "    </tr>\n",
       "    <tr>\n",
       "      <th>4</th>\n",
       "      <td>L.2.2</td>\n",
       "      <td>1972</td>\n",
       "      <td>4</td>\n",
       "      <td>4</td>\n",
       "    </tr>\n",
       "  </tbody>\n",
       "</table>\n",
       "</div>"
      ],
      "text/plain": [
       "   ngram  year  match_count  volume_count\n",
       "0  L.2.2  1958            1             1\n",
       "1  L.2.2  1964            1             1\n",
       "2  L.2.2  1970            1             1\n",
       "3  L.2.2  1971            2             2\n",
       "4  L.2.2  1972            4             4"
      ]
     },
     "execution_count": 2,
     "metadata": {},
     "output_type": "execute_result"
    }
   ],
   "source": [
    "data = pd.read_table('dataset/googlebooks-eng-all-1gram-20120701-l.gz', sep='\\t', header=None, \\\n",
    "                     names=['ngram', 'year', 'match_count', 'volume_count'])\n",
    "data.head()"
   ]
  },
  {
   "cell_type": "code",
   "execution_count": 47,
   "metadata": {
    "collapsed": false
   },
   "outputs": [
    {
     "data": {
      "text/plain": [
       "[<matplotlib.lines.Line2D at 0x24fdc898>]"
      ]
     },
     "execution_count": 47,
     "metadata": {},
     "output_type": "execute_result"
    },
    {
     "data": {
      "image/png": "[encoded data removed]",
      "text/plain": [
       "<matplotlib.figure.Figure at 0x24ce7588>"
      ]
     },
     "metadata": {},
     "output_type": "display_data"
    }
   ],
   "source": [
    "targetWord = 'love'\n",
    "plt.plot(data['year'][data.ngram==targetWord],data['match_count'][data.ngram==targetWord]/data['volume_count'][data.ngram==targetWord])"
   ]
  },
  {
   "cell_type": "code",
   "execution_count": 4,
   "metadata": {
    "collapsed": true
   },
   "outputs": [],
   "source": [
    "import nltk\n",
    "from nltk.corpus import wordnet as wn"
   ]
  },
  {
   "cell_type": "markdown",
   "metadata": {},
   "source": [
    "see https://en.wikipedia.org/wiki/WordNet for details"
   ]
  },
  {
   "cell_type": "code",
   "execution_count": 54,
   "metadata": {
    "collapsed": false
   },
   "outputs": [
    {
     "data": {
      "text/plain": [
       "[u'love',\n",
       " u'passion',\n",
       " u'beloved',\n",
       " u'dear',\n",
       " u'dearest',\n",
       " u'honey',\n",
       " u'sexual_love',\n",
       " u'erotic_love',\n",
       " u'lovemaking',\n",
       " u'making_love',\n",
       " u'love_life',\n",
       " u'enjoy',\n",
       " u'sleep_together',\n",
       " u'roll_in_the_hay',\n",
       " u'make_out',\n",
       " u'make_love',\n",
       " u'sleep_with',\n",
       " u'get_laid',\n",
       " u'have_sex',\n",
       " u'know',\n",
       " u'do_it',\n",
       " u'be_intimate',\n",
       " u'have_intercourse',\n",
       " u'have_it_away',\n",
       " u'have_it_off',\n",
       " u'screw',\n",
       " u'fuck',\n",
       " u'jazz',\n",
       " u'eff',\n",
       " u'hump',\n",
       " u'lie_with',\n",
       " u'bed',\n",
       " u'have_a_go_at_it',\n",
       " u'bang',\n",
       " u'get_it_on',\n",
       " u'bonk']"
      ]
     },
     "execution_count": 54,
     "metadata": {},
     "output_type": "execute_result"
    }
   ],
   "source": [
    "syns = wn.synsets(targetWord)\n",
    "wordCloud = []\n",
    "wordCloudSim = []\n",
    "for word in syns:\n",
    "    for lemma in word.lemmas():\n",
    "        if lemma.name() not in wordCloud:\n",
    "            wordCloud.append(lemma.name())\n",
    "            \n",
    "wordCloud"
   ]
  },
  {
   "cell_type": "markdown",
   "metadata": {},
   "source": [
    "the problem with this is that, this list only contains 'lemmas' and not various forms of the words (loved, lover, loving, ...)"
   ]
  },
  {
   "cell_type": "code",
   "execution_count": null,
   "metadata": {
    "collapsed": true
   },
   "outputs": [],
   "source": []
  }
 ],
 "metadata": {
  "kernelspec": {
   "display_name": "Python 2",
   "language": "python",
   "name": "python2"
  }
 },
 "nbformat": 4,
 "nbformat_minor": 0
}
