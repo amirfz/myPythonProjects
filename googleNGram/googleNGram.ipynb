{
 "cells": [
  {
   "cell_type": "code",
   "execution_count": 1,
   "metadata": {
    "collapsed": true
   },
   "outputs": [],
   "source": [
    "import numpy as np\n",
    "import pandas as pd\n",
    "import matplotlib.pyplot as plt\n",
    "% matplotlib inline"
   ]
  },
  {
   "cell_type": "code",
   "execution_count": 2,
   "metadata": {
    "collapsed": false
   },
   "outputs": [
    {
     "data": {
      "text/html": [
       "<div>\n",
       "<table border=\"1\" class=\"dataframe\">\n",
       "  <thead>\n",
       "    <tr style=\"text-align: right;\">\n",
       "      <th></th>\n",
       "      <th>ngram</th>\n",
       "      <th>year</th>\n",
       "      <th>match_count</th>\n",
       "      <th>volume_count</th>\n",
       "    </tr>\n",
       "  </thead>\n",
       "  <tbody>\n",
       "    <tr>\n",
       "      <th>0</th>\n",
       "      <td>L.2.2</td>\n",
       "      <td>1958</td>\n",
       "      <td>1</td>\n",
       "      <td>1</td>\n",
       "    </tr>\n",
       "    <tr>\n",
       "      <th>1</th>\n",
       "      <td>L.2.2</td>\n",
       "      <td>1964</td>\n",
       "      <td>1</td>\n",
       "      <td>1</td>\n",
       "    </tr>\n",
       "    <tr>\n",
       "      <th>2</th>\n",
       "      <td>L.2.2</td>\n",
       "      <td>1970</td>\n",
       "      <td>1</td>\n",
       "      <td>1</td>\n",
       "    </tr>\n",
       "    <tr>\n",
       "      <th>3</th>\n",
       "      <td>L.2.2</td>\n",
       "      <td>1971</td>\n",
       "      <td>2</td>\n",
       "      <td>2</td>\n",
       "    </tr>\n",
       "    <tr>\n",
       "      <th>4</th>\n",
       "      <td>L.2.2</td>\n",
       "      <td>1972</td>\n",
       "      <td>4</td>\n",
       "      <td>4</td>\n",
       "    </tr>\n",
       "  </tbody>\n",
       "</table>\n",
       "</div>"
      ],
      "text/plain": [
       "   ngram  year  match_count  volume_count\n",
       "0  L.2.2  1958            1             1\n",
       "1  L.2.2  1964            1             1\n",
       "2  L.2.2  1970            1             1\n",
       "3  L.2.2  1971            2             2\n",
       "4  L.2.2  1972            4             4"
      ]
     },
     "execution_count": 2,
     "metadata": {},
     "output_type": "execute_result"
    }
   ],
   "source": [
    "data = pd.read_table('dataset/googlebooks-eng-all-1gram-20120701-l.gz', sep='\\t', header=None, \\\n",
    "                     names=['ngram', 'year', 'match_count', 'volume_count'])\n",
    "data.head()"
   ]
  },
  {
   "cell_type": "code",
   "execution_count": 3,
   "metadata": {
    "collapsed": false
   },
   "outputs": [
    {
     "data": {
      "text/plain": [
       "<matplotlib.axes._subplots.AxesSubplot at 0x50984ef0>"
      ]
     },
     "execution_count": 3,
     "metadata": {},
     "output_type": "execute_result"
    },
    {
     "data": {
      "image/png": "[encoded data removed]",
      "text/plain": [
       "<matplotlib.figure.Figure at 0x50984fd0>"
      ]
     },
     "metadata": {},
     "output_type": "display_data"
    }
   ],
   "source": [
    "data['volume_count'][data.ngram=='love'].plot()"
   ]
  },
  {
   "cell_type": "code",
   "execution_count": 4,
   "metadata": {
    "collapsed": true
   },
   "outputs": [],
   "source": [
    "import nltk\n",
    "from nltk.corpus import wordnet as wn"
   ]
  },
  {
   "cell_type": "markdown",
   "metadata": {},
   "source": [
    "see https://en.wikipedia.org/wiki/WordNet for details"
   ]
  },
  {
   "cell_type": "code",
   "execution_count": 5,
   "metadata": {
    "collapsed": false
   },
   "outputs": [
    {
     "name": "stdout",
     "output_type": "stream",
     "text": [
      "Lemma('love.n.01.love')\n",
      "Lemma('love.n.02.love')\n",
      "Lemma('love.n.02.passion')\n",
      "Lemma('beloved.n.01.beloved')\n",
      "Lemma('beloved.n.01.dear')\n",
      "Lemma('beloved.n.01.dearest')\n",
      "Lemma('beloved.n.01.honey')\n",
      "Lemma('beloved.n.01.love')\n",
      "Lemma('love.n.04.love')\n",
      "Lemma('love.n.04.sexual_love')\n",
      "Lemma('love.n.04.erotic_love')\n",
      "Lemma('love.n.05.love')\n",
      "Lemma('sexual_love.n.02.sexual_love')\n",
      "Lemma('sexual_love.n.02.lovemaking')\n",
      "Lemma('sexual_love.n.02.making_love')\n",
      "Lemma('sexual_love.n.02.love')\n",
      "Lemma('sexual_love.n.02.love_life')\n",
      "Lemma('love.v.01.love')\n",
      "Lemma('love.v.02.love')\n",
      "Lemma('love.v.02.enjoy')\n",
      "Lemma('love.v.03.love')\n",
      "Lemma('sleep_together.v.01.sleep_together')\n",
      "Lemma('sleep_together.v.01.roll_in_the_hay')\n",
      "Lemma('sleep_together.v.01.love')\n",
      "Lemma('sleep_together.v.01.make_out')\n",
      "Lemma('sleep_together.v.01.make_love')\n",
      "Lemma('sleep_together.v.01.sleep_with')\n",
      "Lemma('sleep_together.v.01.get_laid')\n",
      "Lemma('sleep_together.v.01.have_sex')\n",
      "Lemma('sleep_together.v.01.know')\n",
      "Lemma('sleep_together.v.01.do_it')\n",
      "Lemma('sleep_together.v.01.be_intimate')\n",
      "Lemma('sleep_together.v.01.have_intercourse')\n",
      "Lemma('sleep_together.v.01.have_it_away')\n",
      "Lemma('sleep_together.v.01.have_it_off')\n",
      "Lemma('sleep_together.v.01.screw')\n",
      "Lemma('sleep_together.v.01.fuck')\n",
      "Lemma('sleep_together.v.01.jazz')\n",
      "Lemma('sleep_together.v.01.eff')\n",
      "Lemma('sleep_together.v.01.hump')\n",
      "Lemma('sleep_together.v.01.lie_with')\n",
      "Lemma('sleep_together.v.01.bed')\n",
      "Lemma('sleep_together.v.01.have_a_go_at_it')\n",
      "Lemma('sleep_together.v.01.bang')\n",
      "Lemma('sleep_together.v.01.get_it_on')\n",
      "Lemma('sleep_together.v.01.bonk')\n"
     ]
    }
   ],
   "source": [
    "wordCloud = wn.synsets('love')\n",
    "for word in wordCloud:\n",
    "    for lemma in word.lemmas():\n",
    "        print lemma"
   ]
  },
  {
   "cell_type": "code",
   "execution_count": null,
   "metadata": {
    "collapsed": true
   },
   "outputs": [],
   "source": []
  }
 ],
 "metadata": {
  "kernelspec": {
   "display_name": "Python 2",
   "language": "python",
   "name": "python2"
  },
  "language_info": {
   "codemirror_mode": {
    "name": "ipython",
    "version": 2
   },
   "file_extension": ".py",
   "mimetype": "text/x-python",
   "name": "python",
   "nbconvert_exporter": "python",
   "pygments_lexer": "ipython2",
   "version": "2.7.11rc1"
  }
 },
 "nbformat": 4,
 "nbformat_minor": 0
}
