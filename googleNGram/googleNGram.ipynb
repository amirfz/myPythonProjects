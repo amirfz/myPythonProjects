{
 "cells": [
  {
   "cell_type": "markdown",
   "metadata": {},
   "source": [
    "# Word Trends using Google NGrams\n",
    "\n",
    "We are using wordnet to generate a word cloud around chosen words and then use google ngrams to map out the usage frequency of the concept. We are eventually interested to see if the frequency is correlated with any important historical events. "
   ]
  },
  {
   "cell_type": "code",
   "execution_count": 17,
   "metadata": {
    "collapsed": true
   },
   "outputs": [],
   "source": [
    "import numpy as np\n",
    "import pandas as pd\n",
    "import matplotlib.pyplot as plt\n",
    "from scipy import signal\n",
    "import nltk\n",
    "from nltk.corpus import wordnet as wn\n",
    "import os.path\n",
    "import urllib\n",
    "#%matplotlib nbagg\n",
    "%matplotlib inline"
   ]
  },
  {
   "cell_type": "markdown",
   "metadata": {},
   "source": [
    "see https://en.wikipedia.org/wiki/WordNet for details"
   ]
  },
  {
   "cell_type": "code",
   "execution_count": 4,
   "metadata": {
    "collapsed": false
   },
   "outputs": [
    {
     "name": "stdout",
     "output_type": "stream",
     "text": [
      "Lemma('war.n.01.war') Lemma('war.v.01.war')\n",
      "Lemma('war.n.02.war') Lemma('war.v.01.war')\n",
      "Lemma('war.v.01.war') Lemma('war.n.01.war')\n",
      "Lemma('war.v.01.war') Lemma('war.n.02.war')\n",
      "Lemma('war.v.01.war') Lemma('warrior.n.01.warrior')\n"
     ]
    }
   ],
   "source": [
    "for s in wn.synsets('war'):\n",
    "    for l in s.lemmas():\n",
    "        for d in l.derivationally_related_forms():\n",
    "            print l, d"
   ]
  },
  {
   "cell_type": "markdown",
   "metadata": {},
   "source": [
    "### Generating a word cloud around the target word\n",
    "from a set of synonyms chosses the ones that have similarity more than 30%"
   ]
  },
  {
   "cell_type": "code",
   "execution_count": 5,
   "metadata": {
    "collapsed": false
   },
   "outputs": [
    {
     "data": {
      "text/plain": [
       "(['war', 'warfare', 'state_of_war'],\n",
       " ['war', 'warfare', 'state_of_war'],\n",
       " [1.0, 1.0, 0.3076923076923077])"
      ]
     },
     "execution_count": 5,
     "metadata": {},
     "output_type": "execute_result"
    }
   ],
   "source": [
    "targetWord = 'war'\n",
    "syns = wn.synsets(targetWord)\n",
    "wordCloud = []\n",
    "wordCloudOriginal = []\n",
    "wordCloudSim = [] # similarity to the target word\n",
    "for word in syns:\n",
    "    for lemma in word.lemmas():\n",
    "        if lemma.name() not in wordCloudOriginal:\n",
    "            wordCloudOriginal.append(str(lemma.name()))\n",
    "            if wn.synsets(targetWord)[0].wup_similarity(wn.synsets(lemma.name())[0]) > 0.3:\n",
    "                wordCloud.append(str(lemma.name()))\n",
    "                wordCloudSim.append(wn.synsets(targetWord)[0].wup_similarity(wn.synsets(lemma.name())[0]))\n",
    "            \n",
    "wordCloud, wordCloudOriginal, wordCloudSim"
   ]
  },
  {
   "cell_type": "markdown",
   "metadata": {},
   "source": [
    "the problem with this is that, this list only contains 'lemmas' and not various forms of the words (loved, lover, loving, ...)"
   ]
  },
  {
   "cell_type": "markdown",
   "metadata": {},
   "source": [
    "### Creating a data frame for the word cloud\n",
    "downloads the files from google ngram if they don't exist or they're broken (based on size) and then extracts the relevant frequencies"
   ]
  },
  {
   "cell_type": "code",
   "execution_count": 6,
   "metadata": {
    "collapsed": false
   },
   "outputs": [
    {
     "name": "stdout",
     "output_type": "stream",
     "text": [
      "war\n",
      "403\n",
      "warfare\n",
      "354\n",
      "state_of_war\n",
      "0\n",
      "0\n",
      "0\n",
      "0\n",
      "0\n",
      "0\n",
      "0\n",
      "0\n",
      "0\n",
      "0\n",
      "0\n",
      "0\n",
      "0\n",
      "0\n",
      "0\n",
      "0\n",
      "0\n",
      "0\n",
      "0\n",
      "0\n",
      "0\n",
      "0\n",
      "0\n",
      "0\n",
      "0\n",
      "0\n",
      "0\n",
      "0\n",
      "0\n",
      "0\n",
      "0\n",
      "0\n",
      "0\n",
      "0\n",
      "0\n",
      "0\n",
      "0\n",
      "0\n",
      "0\n",
      "0\n",
      "0\n",
      "0\n",
      "0\n",
      "0\n",
      "0\n",
      "0\n",
      "0\n",
      "0\n",
      "0\n",
      "0\n",
      "0\n",
      "0\n",
      "0\n",
      "0\n"
     ]
    },
    {
     "data": {
      "text/html": [
       "<div>\n",
       "<table border=\"1\" class=\"dataframe\">\n",
       "  <thead>\n",
       "    <tr style=\"text-align: right;\">\n",
       "      <th></th>\n",
       "      <th>ngram</th>\n",
       "      <th>year</th>\n",
       "      <th>match_count</th>\n",
       "      <th>volume_count</th>\n",
       "    </tr>\n",
       "  </thead>\n",
       "  <tbody>\n",
       "    <tr>\n",
       "      <th>752</th>\n",
       "      <td>warfare</td>\n",
       "      <td>2004</td>\n",
       "      <td>179680</td>\n",
       "      <td>34146</td>\n",
       "    </tr>\n",
       "    <tr>\n",
       "      <th>753</th>\n",
       "      <td>warfare</td>\n",
       "      <td>2005</td>\n",
       "      <td>166935</td>\n",
       "      <td>32690</td>\n",
       "    </tr>\n",
       "    <tr>\n",
       "      <th>754</th>\n",
       "      <td>warfare</td>\n",
       "      <td>2006</td>\n",
       "      <td>185914</td>\n",
       "      <td>35475</td>\n",
       "    </tr>\n",
       "    <tr>\n",
       "      <th>755</th>\n",
       "      <td>warfare</td>\n",
       "      <td>2007</td>\n",
       "      <td>206729</td>\n",
       "      <td>39417</td>\n",
       "    </tr>\n",
       "    <tr>\n",
       "      <th>756</th>\n",
       "      <td>warfare</td>\n",
       "      <td>2008</td>\n",
       "      <td>240597</td>\n",
       "      <td>56461</td>\n",
       "    </tr>\n",
       "  </tbody>\n",
       "</table>\n",
       "</div>"
      ],
      "text/plain": [
       "       ngram  year  match_count  volume_count\n",
       "752  warfare  2004       179680         34146\n",
       "753  warfare  2005       166935         32690\n",
       "754  warfare  2006       185914         35475\n",
       "755  warfare  2007       206729         39417\n",
       "756  warfare  2008       240597         56461"
      ]
     },
     "execution_count": 6,
     "metadata": {},
     "output_type": "execute_result"
    }
   ],
   "source": [
    "columns = ['ngram', 'year', 'match_count', 'volume_count']\n",
    "dataf = pd.DataFrame(columns=columns)\n",
    "for word in wordCloud:\n",
    "    print word\n",
    "    wordsp = word.split('_')\n",
    "    n = len(wordsp)\n",
    "    indices = word[:min(2,n)]\n",
    "    filename = 'googlebooks-eng-all-{}gram-20120701-{}.gz'.format(n, indices)\n",
    "    url = \"http://storage.googleapis.com/books/ngrams/books/\"+filename\n",
    "    \n",
    "    if not os.path.isfile(filename):\n",
    "        urllib.urlretrieve (url, filename)\n",
    "    elif int(urllib.urlopen(url).info()['Content-Length']) != os.stat(filename).st_size:\n",
    "        urllib.urlretrieve (url, filename)\n",
    "        \n",
    "    for chunk in pd.read_table(filename, sep='\\t', header=None, names=columns, chunksize=40000000):\n",
    "        dataf = dataf.append(chunk[chunk.ngram == ' '.join(word.split('_'))], ignore_index=True)\n",
    "        print sum(chunk.ngram == ' '.join(word.split('_')))\n",
    "        \n",
    "dataf.tail()"
   ]
  },
  {
   "cell_type": "markdown",
   "metadata": {},
   "source": [
    "### saving the dataframe"
   ]
  },
  {
   "cell_type": "code",
   "execution_count": 7,
   "metadata": {
    "collapsed": false
   },
   "outputs": [],
   "source": [
    "dataf.to_csv('dataset_for_'+targetWord+'_wordCloud.csv.gz', sep=',', compression='gzip')"
   ]
  },
  {
   "cell_type": "markdown",
   "metadata": {},
   "source": [
    "### plotting each word vs years"
   ]
  },
  {
   "cell_type": "code",
   "execution_count": 8,
   "metadata": {
    "collapsed": false
   },
   "outputs": [
    {
     "data": {
      "text/plain": [
       "(0, 50)"
      ]
     },
     "execution_count": 8,
     "metadata": {},
     "output_type": "execute_result"
    },
    {
     "data": {
      "image/png": "[encoded data removed]",
      "text/plain": [
       "<matplotlib.figure.Figure at 0x229e77f0>"
      ]
     },
     "metadata": {},
     "output_type": "display_data"
    }
   ],
   "source": [
    "for key, grp in dataf.groupby(by='ngram'):\n",
    "    plt.plot(grp.year, grp.match_count/grp.volume_count, label=key)\n",
    "    plt.annotate(key, xy=(2010, grp.match_count[grp.year==2008]/grp.volume_count[grp.year==2008]))\n",
    "plt.legend(loc='upper center', bbox_to_anchor=(1.3, 1.05), ncol=1, fancybox=True, shadow=True)\n",
    "plt.xlim(1860,2010)\n",
    "plt.ylim(0,50)"
   ]
  },
  {
   "cell_type": "code",
   "execution_count": 9,
   "metadata": {
    "collapsed": false
   },
   "outputs": [],
   "source": [
    "#data_check = pd.read_table('googlebooks-eng-all-1gram-20120701-d.gz', sep='\\t', header=None, names=columns)"
   ]
  },
  {
   "cell_type": "code",
   "execution_count": 10,
   "metadata": {
    "collapsed": false
   },
   "outputs": [],
   "source": [
    "#plt.plot(data_check[data_check.ngram=='dog'].year, \\\n",
    "#         data_check[data_check.ngram=='dog'].match_count/data_check[data_check.ngram=='dog'].volume_count)\n",
    "#plt.xlim(1850,2016)\n",
    "#plt.ylim(5,12)"
   ]
  },
  {
   "cell_type": "markdown",
   "metadata": {},
   "source": [
    "### plotting the concept (all words) vs years\n",
    "using a gaussian filter for smoothing"
   ]
  },
  {
   "cell_type": "code",
   "execution_count": 11,
   "metadata": {
    "collapsed": false
   },
   "outputs": [],
   "source": [
    "dataf_groups = dataf.groupby(by='year', as_index=True).sum()"
   ]
  },
  {
   "cell_type": "code",
   "execution_count": 37,
   "metadata": {
    "collapsed": false
   },
   "outputs": [
    {
     "data": {
      "image/png": "[encoded data removed]",
      "text/plain": [
       "<matplotlib.figure.Figure at 0x2ccb1048>"
      ]
     },
     "metadata": {},
     "output_type": "display_data"
    }
   ],
   "source": [
    "gausFilter = signal.gaussian(50,3)/signal.gaussian(50,3).sum()\n",
    "trend = np.convolve(dataf_groups.match_count/dataf_groups.volume_count, gausFilter, mode='same')\n",
    "\n",
    "plt.plot(dataf_groups.index.values, trend)\n",
    "# plt.plot(dataf[dataf.ngram=='love'].year, dataf[dataf.ngram=='love'].match_count/dataf[dataf.ngram=='love'].volume_count)\n",
    "# plt.plot(dataf_groups.index.values, dataf_groups.match_count)\n",
    "plt.axvspan(1914, 1918, color='y', alpha=0.5, lw=0)\n",
    "plt.annotate('world war I', xy=(1914,15), rotation=np.degrees(3.14/2))\n",
    "plt.axvspan(1939, 1945, color='y', alpha=0.5, lw=0)\n",
    "plt.annotate('world war II', xy=(1940,15), rotation=np.degrees(3.14/2))\n",
    "plt.axvspan(1955, 1975, color='y', alpha=0.5, lw=0)\n",
    "plt.annotate('vietnam war', xy=(1963,15), rotation=np.degrees(3.14/2))\n",
    "#plt.axvspan(1960, 2008, color='y', alpha=0.5, lw=0)\n",
    "#plt.annotate('women liberation', xy=(1968,8), rotation=np.degrees(3.14/2))\n",
    "plt.xlim(1800,2016)\n",
    "plt.ylim(0,50)\n",
    "plt.title(targetWord)\n",
    "plt.xlabel('year')\n",
    "plt.ylabel('frequency per document')\n",
    "plt.savefig('dataset_for_'+targetWord+'_wordCloud.png')"
   ]
  },
  {
   "cell_type": "code",
   "execution_count": 23,
   "metadata": {
    "collapsed": false
   },
   "outputs": [
    {
     "data": {
      "text/plain": [
       "(404L,)"
      ]
     },
     "execution_count": 23,
     "metadata": {},
     "output_type": "execute_result"
    }
   ],
   "source": [
    "trend.shape"
   ]
  },
  {
   "cell_type": "code",
   "execution_count": null,
   "metadata": {
    "collapsed": true
   },
   "outputs": [],
   "source": []
  }
 ],
 "metadata": {
  "kernelspec": {
   "display_name": "Python 2",
   "language": "python",
   "name": "python2"
  }
 },
 "nbformat": 4,
 "nbformat_minor": 0
}
